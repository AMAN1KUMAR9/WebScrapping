{
 "cells": [
  {
   "cell_type": "code",
   "execution_count": 172,
   "id": "e5b7a37a-9f8c-4094-aadc-4520ead0e01c",
   "metadata": {},
   "outputs": [],
   "source": [
    "from selenium import webdriver\n",
    "from selenium.webdriver.chrome.service import Service\n",
    "from selenium.webdriver.chrome.options import Options\n",
    "from webdriver_manager.chrome import ChromeDriverManager\n",
    "from bs4 import BeautifulSoup\n",
    "import pandas as pd\n",
    "import time\n",
    "\n"
   ]
  },
  {
   "cell_type": "code",
   "execution_count": 326,
   "id": "9fece6fc-1d5b-492a-b5c3-eff95a5f916d",
   "metadata": {},
   "outputs": [],
   "source": [
    "import numpy as np\n",
    "from tqdm import tqdm"
   ]
  },
  {
   "cell_type": "code",
   "execution_count": 124,
   "id": "98e6874a-99e6-4078-a535-23b085622ec7",
   "metadata": {},
   "outputs": [],
   "source": [
    "service = Service(ChromeDriverManager().install())\n",
    "options = Options()\n",
    "driver = webdriver.Chrome(service=service, options=options)"
   ]
  },
  {
   "cell_type": "code",
   "execution_count": 126,
   "id": "31d623ea-6075-4579-8d2a-a8cd2999bf06",
   "metadata": {},
   "outputs": [],
   "source": [
    "df = pd.read_csv(\"youtube_gfg.csv\")"
   ]
  },
  {
   "cell_type": "code",
   "execution_count": 132,
   "id": "70e883f4-d2d4-4fff-be64-412f71faa9cc",
   "metadata": {},
   "outputs": [
    {
     "data": {
      "text/plain": [
       "title           0\n",
       "link            0\n",
       "views           0\n",
       "date_time       0\n",
       "image_link    204\n",
       "dtype: int64"
      ]
     },
     "execution_count": 132,
     "metadata": {},
     "output_type": "execute_result"
    }
   ],
   "source": [
    "df.isna().sum()"
   ]
  },
  {
   "cell_type": "code",
   "execution_count": 188,
   "id": "9bdb5770-f9f3-4dab-b87c-06769e494286",
   "metadata": {},
   "outputs": [],
   "source": [
    "import time"
   ]
  },
  {
   "cell_type": "code",
   "execution_count": 336,
   "id": "01930999-7a59-4b22-980f-9a3708efab8b",
   "metadata": {},
   "outputs": [
    {
     "name": "stderr",
     "output_type": "stream",
     "text": [
      "100%|████████████████████████████████████████████████████████████████████████████| 1872/1872 [3:35:08<00:00,  6.90s/it]\n"
     ]
    }
   ],
   "source": [
    "data = []\n",
    "\n",
    "for i in tqdm(df[\"link\"]):\n",
    "    import time\n",
    "    driver.get(i)\n",
    "    time.sleep(5)\n",
    "    \n",
    "    soup = BeautifulSoup(driver.page_source, \"html.parser\")\n",
    "    \n",
    "    sp = soup.find_all(\"span\" ,class_ = \"bold style-scope yt-formatted-string\")\n",
    "    try:\n",
    "        views = sp[0].text\n",
    "    except:\n",
    "        views =  np.nan\n",
    "    try:\n",
    "        time = sp[2].text\n",
    "    except:\n",
    "        time = np.nan\n",
    "    try:\n",
    "        like = soup.find(\"div\",class_ = \"YtSegmentedLikeDislikeButtonViewModelSegmentedButtonsWrapper\")\n",
    "    except:\n",
    "        like = np.nan\n",
    "    try:\n",
    "        likes = like.find(\"div\" , class_ = \"yt-spec-button-shape-next__button-text-content\").text\n",
    "    except:\n",
    "        likes = np.nan\n",
    "    try:\n",
    "        title = soup.find(\"h1\" , class_ = \"style-scope ytd-watch-metadata\").text.strip()\n",
    "    except:\n",
    "        title = np.nan\n",
    "    try: \n",
    "        description = soup.find_all(\"span\" , class_ = \"yt-core-attributed-string--link-inherit-color\")\n",
    "        des = \"\"\n",
    "        for i in description:\n",
    "            des +=i.text\n",
    "    except:\n",
    "        des = np.nan\n",
    "    data.append([title  ,views , time ,likes ,des])\n",
    "    \n",
    "   "
   ]
  },
  {
   "cell_type": "markdown",
   "id": "95c2a320-5775-4492-9abd-e92550b7446d",
   "metadata": {},
   "source": []
  },
  {
   "cell_type": "code",
   "execution_count": 340,
   "id": "f7e5b39c-8a80-41e3-8348-440a555bd4a0",
   "metadata": {},
   "outputs": [
    {
     "data": {
      "text/plain": [
       "['Longest Span with same Sum in two Binary arrays | GeeksforGeeks',\n",
       " '302K views',\n",
       " '8 years ago',\n",
       " '1.5K',\n",
       " \"Here's you next clue  - Our comprehensive guide to acing placements in your dream company.\\n\\nRead More: https://www.geeksforgeeks.org/longest...\\n\\nExplanation for the Article http://www.geeksforgeeks.org/longest-...\\n\\nThis video is contributed by Sephiri.Here's you next clue  - Our comprehensive guide to acing placements in your dream company.\\n\"]"
      ]
     },
     "execution_count": 340,
     "metadata": {},
     "output_type": "execute_result"
    }
   ],
   "source": [
    "data[1871]"
   ]
  },
  {
   "cell_type": "code",
   "execution_count": 342,
   "id": "09def128-3165-4db1-852c-5ffbdecb4947",
   "metadata": {},
   "outputs": [],
   "source": [
    "df = pd.DataFrame(data , columns = [\"title\" , \"views\" , \"date_time\" , \"likes\" , \"description\"])"
   ]
  },
  {
   "cell_type": "code",
   "execution_count": 346,
   "id": "54c0a0e8-0bac-4fb0-8d88-0bdddd045265",
   "metadata": {},
   "outputs": [
    {
     "data": {
      "text/plain": [
       "title          0\n",
       "views          0\n",
       "date_time      0\n",
       "likes          0\n",
       "description    0\n",
       "dtype: int64"
      ]
     },
     "execution_count": 346,
     "metadata": {},
     "output_type": "execute_result"
    }
   ],
   "source": [
    "df.isna().sum()"
   ]
  },
  {
   "cell_type": "code",
   "execution_count": 348,
   "id": "f9fdf648-a0cb-41f2-bbb0-43a54aa6ad50",
   "metadata": {},
   "outputs": [],
   "source": [
    "df.to_csv(\"gfg_videosInfo.csv\" , index = False)"
   ]
  },
  {
   "cell_type": "code",
   "execution_count": null,
   "id": "932650de-ab7b-44e2-b3f2-e45aed0f5d02",
   "metadata": {},
   "outputs": [],
   "source": []
  }
 ],
 "metadata": {
  "kernelspec": {
   "display_name": "Python 3 (ipykernel)",
   "language": "python",
   "name": "python3"
  },
  "language_info": {
   "codemirror_mode": {
    "name": "ipython",
    "version": 3
   },
   "file_extension": ".py",
   "mimetype": "text/x-python",
   "name": "python",
   "nbconvert_exporter": "python",
   "pygments_lexer": "ipython3",
   "version": "3.11.7"
  }
 },
 "nbformat": 4,
 "nbformat_minor": 5
}
